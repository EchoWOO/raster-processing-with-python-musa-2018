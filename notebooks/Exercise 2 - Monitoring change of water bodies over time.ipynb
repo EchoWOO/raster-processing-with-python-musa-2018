{
 "cells": [
  {
   "cell_type": "markdown",
   "metadata": {},
   "source": [
    "# Exercise 2\n",
    "\n",
    "In this exercise, you will extract the bodies of water from Landsat images over the same area at different points in time. You'll use this information to measure measure the amount of change in the area and perimeter of those bodies of water.\n",
    "\n",
    "- Select an area where you believe you will be able to see bodies of water shrink or expand over time. Download 2 or more non-cloudy Landsat scenes for that area.\n",
    "- Utilize the [Normalized Difference Water Index](https://en.wikipedia.org/wiki/Normalized_difference_water_index) (NDWI) to detect water pixels. \n",
    "- Find a way to derive area and perimeter from these scenes, and create a narrative about how one or more bodies of water change over time, supported by visuals and data.\n",
    "\n",
    "The formula for NDWI is very similar to NDVI. It is:\n",
    "\n",
    "![NDWI Formula](img/ndwi.png)"
   ]
  },
  {
   "cell_type": "code",
   "execution_count": null,
   "metadata": {
    "collapsed": true
   },
   "outputs": [],
   "source": []
  }
 ],
 "metadata": {
  "kernelspec": {
   "display_name": "GeoNotebook + GeoPySpark",
   "language": "python",
   "name": "geonotebook3"
  },
  "language_info": {
   "codemirror_mode": {
    "name": "ipython",
    "version": 3
   },
   "file_extension": ".py",
   "mimetype": "text/x-python",
   "name": "python",
   "nbconvert_exporter": "python",
   "pygments_lexer": "ipython3",
   "version": "3.4.7"
  }
 },
 "nbformat": 4,
 "nbformat_minor": 2
}
