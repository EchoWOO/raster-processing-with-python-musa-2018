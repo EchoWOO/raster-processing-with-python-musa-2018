{
 "cells": [
  {
   "cell_type": "markdown",
   "metadata": {},
   "source": [
    "# Exercise 1\n",
    "\n",
    "In this exercise, you will render a Landsat scene in a way that incorporates data from the CDL. That's it! You could:\n",
    "\n",
    "- Replace color values in the RGB Landsat rendering for certain crops with solid colors\n",
    "- Render pixel values over CDL classes with various intensities based on NDVI values\n",
    "- Color detected harvested and unharvested fields according to crop type\n",
    "\n",
    "Extra points for creativity in the way you modify the rendering of the Landsat imagery."
   ]
  },
  {
   "cell_type": "code",
   "execution_count": null,
   "metadata": {
    "collapsed": true
   },
   "outputs": [],
   "source": []
  }
 ],
 "metadata": {
  "kernelspec": {
   "display_name": "GeoNotebook + GeoPySpark",
   "language": "python",
   "name": "geonotebook3"
  },
  "language_info": {
   "codemirror_mode": {
    "name": "ipython",
    "version": 3
   },
   "file_extension": ".py",
   "mimetype": "text/x-python",
   "name": "python",
   "nbconvert_exporter": "python",
   "pygments_lexer": "ipython3",
   "version": "3.4.7"
  }
 },
 "nbformat": 4,
 "nbformat_minor": 2
}
